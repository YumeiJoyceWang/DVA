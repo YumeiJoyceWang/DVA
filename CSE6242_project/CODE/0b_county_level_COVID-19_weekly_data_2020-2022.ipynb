{
 "cells": [
  {
   "cell_type": "code",
   "execution_count": 15,
   "id": "1b8249b2",
   "metadata": {},
   "outputs": [],
   "source": [
    "import pandas as pd\n",
    "dataframe = pd.read_csv('county_covid_data.csv', delimiter=',')\n",
    "df = dataframe.copy()"
   ]
  },
  {
   "cell_type": "code",
   "execution_count": 16,
   "id": "e7a95402",
   "metadata": {},
   "outputs": [
    {
     "name": "stdout",
     "output_type": "stream",
     "text": [
      "               date      county    state     fips  cases  deaths\n",
      "0        2020-05-18     Autauga  Alabama   1001.0    120     4.0\n",
      "1        2020-05-18     Baldwin  Alabama   1003.0    260     8.0\n",
      "2        2020-05-18     Barbour  Alabama   1005.0     85     1.0\n",
      "3        2020-05-18        Bibb  Alabama   1007.0     50     1.0\n",
      "4        2020-05-18      Blount  Alabama   1009.0     47     1.0\n",
      "...             ...         ...      ...      ...    ...     ...\n",
      "2902232  2022-10-30  Sweetwater  Wyoming  56037.0  12182   131.0\n",
      "2902233  2022-10-30       Teton  Wyoming  56039.0  11814    16.0\n",
      "2902234  2022-10-30       Uinta  Wyoming  56041.0   6186    43.0\n",
      "2902235  2022-10-30    Washakie  Wyoming  56043.0   2671    47.0\n",
      "2902236  2022-10-30      Weston  Wyoming  56045.0   1828    21.0\n",
      "\n",
      "[2902237 rows x 6 columns]\n"
     ]
    }
   ],
   "source": [
    "print(df)"
   ]
  },
  {
   "cell_type": "code",
   "execution_count": 21,
   "id": "1e7ba873",
   "metadata": {},
   "outputs": [],
   "source": [
    "df = df.drop('fips', axis=1)"
   ]
  },
  {
   "cell_type": "code",
   "execution_count": 19,
   "id": "9bb16466",
   "metadata": {},
   "outputs": [],
   "source": [
    "df.set_index('date', inplace=True)"
   ]
  },
  {
   "cell_type": "code",
   "execution_count": 23,
   "id": "fd05f117",
   "metadata": {},
   "outputs": [
    {
     "name": "stdout",
     "output_type": "stream",
     "text": [
      "                county    state  cases  deaths\n",
      "date                                          \n",
      "2020-05-18     Autauga  Alabama    120     4.0\n",
      "2020-05-18     Baldwin  Alabama    260     8.0\n",
      "2020-05-18     Barbour  Alabama     85     1.0\n",
      "2020-05-18        Bibb  Alabama     50     1.0\n",
      "2020-05-18      Blount  Alabama     47     1.0\n",
      "...                ...      ...    ...     ...\n",
      "2022-10-30  Sweetwater  Wyoming  12182   131.0\n",
      "2022-10-30       Teton  Wyoming  11814    16.0\n",
      "2022-10-30       Uinta  Wyoming   6186    43.0\n",
      "2022-10-30    Washakie  Wyoming   2671    47.0\n",
      "2022-10-30      Weston  Wyoming   1828    21.0\n",
      "\n",
      "[2902237 rows x 4 columns]\n"
     ]
    }
   ],
   "source": [
    "print(df)"
   ]
  },
  {
   "cell_type": "code",
   "execution_count": 27,
   "id": "1679d178",
   "metadata": {},
   "outputs": [],
   "source": [
    "# aggregate daily data into weekly data by county\n",
    "new_df = df.groupby(['county', 'state']).resample('w').sum()"
   ]
  },
  {
   "cell_type": "code",
   "execution_count": 28,
   "id": "2a221b83",
   "metadata": {},
   "outputs": [
    {
     "name": "stdout",
     "output_type": "stream",
     "text": [
      "                                     cases  deaths\n",
      "county    state          date                     \n",
      "Abbeville South Carolina 2020-05-24    249     0.0\n",
      "                         2020-05-31    262     0.0\n",
      "                         2020-06-07    330     0.0\n",
      "                         2020-06-14    433     0.0\n",
      "                         2020-06-21    536     0.0\n",
      "...                                    ...     ...\n",
      "Ziebach   South Dakota   2022-10-02   4859    77.0\n",
      "                         2022-10-09   4865    77.0\n",
      "                         2022-10-16   4870    77.0\n",
      "                         2022-10-23   4887    77.0\n",
      "                         2022-10-30   4893    77.0\n",
      "\n",
      "[416023 rows x 2 columns]\n"
     ]
    }
   ],
   "source": [
    "print(new_df)"
   ]
  },
  {
   "cell_type": "code",
   "execution_count": 30,
   "id": "763492b7",
   "metadata": {},
   "outputs": [
    {
     "name": "stdout",
     "output_type": "stream",
     "text": [
      "           county           state       date  cases  deaths\n",
      "0       Abbeville  South Carolina 2020-05-24    249     0.0\n",
      "1       Abbeville  South Carolina 2020-05-31    262     0.0\n",
      "2       Abbeville  South Carolina 2020-06-07    330     0.0\n",
      "3       Abbeville  South Carolina 2020-06-14    433     0.0\n",
      "4       Abbeville  South Carolina 2020-06-21    536     0.0\n",
      "...           ...             ...        ...    ...     ...\n",
      "416018    Ziebach    South Dakota 2022-10-02   4859    77.0\n",
      "416019    Ziebach    South Dakota 2022-10-09   4865    77.0\n",
      "416020    Ziebach    South Dakota 2022-10-16   4870    77.0\n",
      "416021    Ziebach    South Dakota 2022-10-23   4887    77.0\n",
      "416022    Ziebach    South Dakota 2022-10-30   4893    77.0\n",
      "\n",
      "[416023 rows x 5 columns]\n"
     ]
    }
   ],
   "source": [
    "output_df = new_df.reset_index()\n",
    "print(output_df)"
   ]
  },
  {
   "cell_type": "code",
   "execution_count": 32,
   "id": "0f1d80f2",
   "metadata": {},
   "outputs": [
    {
     "name": "stdout",
     "output_type": "stream",
     "text": [
      "             date     county           state  cases  deaths\n",
      "0      2020-05-24  Abbeville  South Carolina    249     0.0\n",
      "1      2020-05-31  Abbeville  South Carolina    262     0.0\n",
      "2      2020-06-07  Abbeville  South Carolina    330     0.0\n",
      "3      2020-06-14  Abbeville  South Carolina    433     0.0\n",
      "4      2020-06-21  Abbeville  South Carolina    536     0.0\n",
      "...           ...        ...             ...    ...     ...\n",
      "416018 2022-10-02    Ziebach    South Dakota   4859    77.0\n",
      "416019 2022-10-09    Ziebach    South Dakota   4865    77.0\n",
      "416020 2022-10-16    Ziebach    South Dakota   4870    77.0\n",
      "416021 2022-10-23    Ziebach    South Dakota   4887    77.0\n",
      "416022 2022-10-30    Ziebach    South Dakota   4893    77.0\n",
      "\n",
      "[416023 rows x 5 columns]\n"
     ]
    }
   ],
   "source": [
    "# move the date column to the first position\n",
    "output_df.insert(0, 'date', output_df.pop('date'))\n",
    "print(output_df)"
   ]
  },
  {
   "cell_type": "code",
   "execution_count": 33,
   "id": "61deb1c7",
   "metadata": {},
   "outputs": [],
   "source": []
  },
  {
   "cell_type": "code",
   "execution_count": 36,
   "id": "9faf1d19",
   "metadata": {},
   "outputs": [],
   "source": [
    "states = {\n",
    "    \"Alabama\": \"AL\",\n",
    "    \"Alaska\": \"AK\",\n",
    "    \"Arizona\": \"AZ\",\n",
    "    \"Arkansas\": \"AR\",\n",
    "    \"California\": \"CA\",\n",
    "    \"Colorado\": \"CO\",\n",
    "    \"Connecticut\": \"CT\",\n",
    "    \"Delaware\": \"DE\",\n",
    "    \"Florida\": \"FL\",\n",
    "    \"Georgia\": \"GA\",\n",
    "    \"Hawaii\": \"HI\",\n",
    "    \"Idaho\": \"ID\",\n",
    "    \"Illinois\": \"IL\",\n",
    "    \"Indiana\": \"IN\",\n",
    "    \"Iowa\": \"IA\",\n",
    "    \"Kansas\": \"KS\",\n",
    "    \"Kentucky\": \"KY\",\n",
    "    \"Louisiana\": \"LA\",\n",
    "    \"Maine\": \"ME\",\n",
    "    \"Maryland\": \"MD\",\n",
    "    \"Massachusetts\": \"MA\",\n",
    "    \"Michigan\": \"MI\",\n",
    "    \"Minnesota\": \"MN\",\n",
    "    \"Mississippi\": \"MS\",\n",
    "    \"Missouri\": \"MO\",\n",
    "    \"Montana\": \"MT\",\n",
    "    \"Nebraska\": \"NE\",\n",
    "    \"Nevada\": \"NV\",\n",
    "    \"New Hampshire\": \"NH\",\n",
    "    \"New Jersey\": \"NJ\",\n",
    "    \"New Mexico\": \"NM\",\n",
    "    \"New York\": \"NY\",\n",
    "    \"North Carolina\": \"NC\",\n",
    "    \"North Dakota\": \"ND\",\n",
    "    \"Ohio\": \"OH\",\n",
    "    \"Oklahoma\": \"OK\",\n",
    "    \"Oregon\": \"OR\",\n",
    "    \"Pennsylvania\": \"PA\",\n",
    "    \"Rhode Island\": \"RI\",\n",
    "    \"South Carolina\": \"SC\",\n",
    "    \"South Dakota\": \"SD\",\n",
    "    \"Tennessee\": \"TN\",\n",
    "    \"Texas\": \"TX\",\n",
    "    \"Utah\": \"UT\",\n",
    "    \"Vermont\": \"VT\",\n",
    "    \"Virginia\": \"VA\",\n",
    "    \"Washington\": \"WA\",\n",
    "    \"West Virginia\": \"WV\",\n",
    "    \"Wisconsin\": \"WI\",\n",
    "    \"Wyoming\": \"WY\",\n",
    "    \"District of Columbia\": \"DC\",\n",
    "    \"American Samoa\": \"AS\",\n",
    "    \"Guam\": \"GU\",\n",
    "    \"Northern Mariana Islands\": \"MP\",\n",
    "    \"Puerto Rico\": \"PR\",\n",
    "    \"United States Minor Outlying Islands\": \"UM\",\n",
    "    \"U.S. Virgin Islands\": \"VI\",\n",
    "}"
   ]
  },
  {
   "cell_type": "code",
   "execution_count": 37,
   "id": "47dd2b72",
   "metadata": {},
   "outputs": [],
   "source": [
    "# abbreviate states\n",
    "output_df['state'] = output_df['state'].map(lambda x: states.get(x, x))"
   ]
  },
  {
   "cell_type": "code",
   "execution_count": 38,
   "id": "5ee448a2",
   "metadata": {},
   "outputs": [
    {
     "name": "stdout",
     "output_type": "stream",
     "text": [
      "             date     county state  cases  deaths\n",
      "0      2020-05-24  Abbeville    SC    249     0.0\n",
      "1      2020-05-31  Abbeville    SC    262     0.0\n",
      "2      2020-06-07  Abbeville    SC    330     0.0\n",
      "3      2020-06-14  Abbeville    SC    433     0.0\n",
      "4      2020-06-21  Abbeville    SC    536     0.0\n",
      "...           ...        ...   ...    ...     ...\n",
      "416018 2022-10-02    Ziebach    SD   4859    77.0\n",
      "416019 2022-10-09    Ziebach    SD   4865    77.0\n",
      "416020 2022-10-16    Ziebach    SD   4870    77.0\n",
      "416021 2022-10-23    Ziebach    SD   4887    77.0\n",
      "416022 2022-10-30    Ziebach    SD   4893    77.0\n",
      "\n",
      "[416023 rows x 5 columns]\n"
     ]
    }
   ],
   "source": [
    "print(output_df)"
   ]
  },
  {
   "cell_type": "code",
   "execution_count": 39,
   "id": "ac8a5b2e",
   "metadata": {},
   "outputs": [],
   "source": [
    "output_df.to_csv('county_weekly_covid_data.csv', encoding='utf-8', index=False)"
   ]
  },
  {
   "cell_type": "code",
   "execution_count": null,
   "id": "343129e7",
   "metadata": {},
   "outputs": [],
   "source": []
  }
 ],
 "metadata": {
  "kernelspec": {
   "display_name": "Python 3 (ipykernel)",
   "language": "python",
   "name": "python3"
  },
  "language_info": {
   "codemirror_mode": {
    "name": "ipython",
    "version": 3
   },
   "file_extension": ".py",
   "mimetype": "text/x-python",
   "name": "python",
   "nbconvert_exporter": "python",
   "pygments_lexer": "ipython3",
   "version": "3.9.12"
  }
 },
 "nbformat": 4,
 "nbformat_minor": 5
}
