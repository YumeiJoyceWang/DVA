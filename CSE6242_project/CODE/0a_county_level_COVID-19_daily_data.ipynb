{
 "cells": [
  {
   "cell_type": "code",
   "execution_count": 1,
   "id": "bac3015f",
   "metadata": {},
   "outputs": [
    {
     "name": "stdout",
     "output_type": "stream",
     "text": [
      "             date      county    state   fips  cases  deaths\n",
      "154232 2020-05-18     Autauga  Alabama  01001    120     4.0\n",
      "154233 2020-05-18     Baldwin  Alabama  01003    260     8.0\n",
      "154234 2020-05-18     Barbour  Alabama  01005     85     1.0\n",
      "154235 2020-05-18        Bibb  Alabama  01007     50     1.0\n",
      "154236 2020-05-18      Blount  Alabama  01009     47     1.0\n",
      "...           ...         ...      ...    ...    ...     ...\n",
      "884732 2020-12-31  Sweetwater  Wyoming  56037   2966    16.0\n",
      "884733 2020-12-31       Teton  Wyoming  56039   2138     4.0\n",
      "884734 2020-12-31       Uinta  Wyoming  56041   1558     7.0\n",
      "884735 2020-12-31    Washakie  Wyoming  56043    780    19.0\n",
      "884736 2020-12-31      Weston  Wyoming  56045    476     2.0\n",
      "\n",
      "[730505 rows x 6 columns]\n"
     ]
    }
   ],
   "source": [
    "import pandas as pd\n",
    "\n",
    "# get us county COVID 2020 data \n",
    "county_2020 = pd.read_csv('us-counties-2020.csv', dtype={'fips': str}, delimiter=',')\n",
    "county_2020['date'] = pd.to_datetime(county_2020['date'], format='%Y-%m-%d')\n",
    "# only use data after 2020-05-18 as nursing home COVID 19 data only available after 2020-05-18\n",
    "county_2020_df = county_2020[~(county_2020['date'] < '2020-05-18')]\n",
    "print(county_2020_df)"
   ]
  },
  {
   "cell_type": "code",
   "execution_count": 2,
   "id": "9a55e4ec",
   "metadata": {},
   "outputs": [],
   "source": [
    "# get us county COVID 2021 data \n",
    "county_2021 = pd.read_csv('us-counties-2021.csv', dtype={'fips': str}, delimiter=',')\n",
    "county_2021['date'] = pd.to_datetime(county_2021['date'], format='%Y-%m-%d')\n",
    "# get us county COVID 2022 data \n",
    "county_2022 = pd.read_csv('us-counties-2022.csv', dtype={'fips': str}, delimiter=',')\n",
    "county_2022['date'] = pd.to_datetime(county_2022['date'], format='%Y-%m-%d')\n",
    "county_2022_df = county_2022[~(county_2022['date'] > '2022-10-30')] # by the time this project was working"
   ]
  },
  {
   "cell_type": "code",
   "execution_count": 3,
   "id": "2b41ad4a",
   "metadata": {},
   "outputs": [
    {
     "name": "stdout",
     "output_type": "stream",
     "text": [
      "              date      county    state   fips  cases  deaths\n",
      "0       2021-01-01     Autauga  Alabama  01001   4239    50.0\n",
      "1       2021-01-01     Baldwin  Alabama  01003  13823   169.0\n",
      "2       2021-01-01     Barbour  Alabama  01005   1517    33.0\n",
      "3       2021-01-01        Bibb  Alabama  01007   1854    46.0\n",
      "4       2021-01-01      Blount  Alabama  01009   4693    63.0\n",
      "...            ...         ...      ...    ...    ...     ...\n",
      "1185368 2021-12-31  Sweetwater  Wyoming  56037   8320   107.0\n",
      "1185369 2021-12-31       Teton  Wyoming  56039   5950    14.0\n",
      "1185370 2021-12-31       Uinta  Wyoming  56041   4154    31.0\n",
      "1185371 2021-12-31    Washakie  Wyoming  56043   1879    37.0\n",
      "1185372 2021-12-31      Weston  Wyoming  56045   1254    14.0\n",
      "\n",
      "[1185373 rows x 6 columns]\n"
     ]
    }
   ],
   "source": [
    "print(county_2021)"
   ]
  },
  {
   "cell_type": "code",
   "execution_count": 4,
   "id": "424a5bdb",
   "metadata": {},
   "outputs": [
    {
     "name": "stdout",
     "output_type": "stream",
     "text": [
      "             date      county    state   fips  cases  deaths\n",
      "0      2022-01-01     Autauga  Alabama  01001  11018   160.0\n",
      "1      2022-01-01     Baldwin  Alabama  01003  39911   593.0\n",
      "2      2022-01-01     Barbour  Alabama  01005   3860    81.0\n",
      "3      2022-01-01        Bibb  Alabama  01007   4533    95.0\n",
      "4      2022-01-01      Blount  Alabama  01009  11256   198.0\n",
      "...           ...         ...      ...    ...    ...     ...\n",
      "940767 2022-10-16  Sweetwater  Wyoming  56037  12152   131.0\n",
      "940768 2022-10-16       Teton  Wyoming  56039  11771    16.0\n",
      "940769 2022-10-16       Uinta  Wyoming  56041   6163    43.0\n",
      "940770 2022-10-16    Washakie  Wyoming  56043   2668    47.0\n",
      "940771 2022-10-16      Weston  Wyoming  56045   1818    21.0\n",
      "\n",
      "[940772 rows x 6 columns]\n"
     ]
    }
   ],
   "source": [
    "print(county_2022_df)"
   ]
  },
  {
   "cell_type": "code",
   "execution_count": 5,
   "id": "8829b5b6",
   "metadata": {},
   "outputs": [
    {
     "name": "stderr",
     "output_type": "stream",
     "text": [
      "/var/folders/s9/d_96608s6j569yfdkclttlr00000gn/T/ipykernel_1359/127344814.py:1: FutureWarning: The frame.append method is deprecated and will be removed from pandas in a future version. Use pandas.concat instead.\n",
      "  df = county_2020_df.append(county_2021)\n"
     ]
    }
   ],
   "source": [
    "df = county_2020_df.append(county_2021)"
   ]
  },
  {
   "cell_type": "code",
   "execution_count": 6,
   "id": "6ddff8f7",
   "metadata": {},
   "outputs": [
    {
     "name": "stderr",
     "output_type": "stream",
     "text": [
      "/var/folders/s9/d_96608s6j569yfdkclttlr00000gn/T/ipykernel_1359/2397111680.py:1: FutureWarning: The frame.append method is deprecated and will be removed from pandas in a future version. Use pandas.concat instead.\n",
      "  county_df = df.append(county_2022_df)\n"
     ]
    }
   ],
   "source": [
    "county_df = df.append(county_2022_df)"
   ]
  },
  {
   "cell_type": "code",
   "execution_count": 7,
   "id": "04c563dd",
   "metadata": {},
   "outputs": [
    {
     "name": "stdout",
     "output_type": "stream",
     "text": [
      "             date      county    state   fips  cases  deaths\n",
      "154232 2020-05-18     Autauga  Alabama  01001    120     4.0\n",
      "154233 2020-05-18     Baldwin  Alabama  01003    260     8.0\n",
      "154234 2020-05-18     Barbour  Alabama  01005     85     1.0\n",
      "154235 2020-05-18        Bibb  Alabama  01007     50     1.0\n",
      "154236 2020-05-18      Blount  Alabama  01009     47     1.0\n",
      "...           ...         ...      ...    ...    ...     ...\n",
      "940767 2022-10-16  Sweetwater  Wyoming  56037  12152   131.0\n",
      "940768 2022-10-16       Teton  Wyoming  56039  11771    16.0\n",
      "940769 2022-10-16       Uinta  Wyoming  56041   6163    43.0\n",
      "940770 2022-10-16    Washakie  Wyoming  56043   2668    47.0\n",
      "940771 2022-10-16      Weston  Wyoming  56045   1818    21.0\n",
      "\n",
      "[2856650 rows x 6 columns]\n"
     ]
    }
   ],
   "source": [
    "print(county_df)"
   ]
  },
  {
   "cell_type": "code",
   "execution_count": 8,
   "id": "621aa52c",
   "metadata": {},
   "outputs": [],
   "source": [
    "county_df.to_csv('county_covid_data.csv', encoding='utf-8', index=False)"
   ]
  },
  {
   "cell_type": "code",
   "execution_count": null,
   "id": "50641898",
   "metadata": {},
   "outputs": [],
   "source": []
  }
 ],
 "metadata": {
  "kernelspec": {
   "display_name": "Python 3 (ipykernel)",
   "language": "python",
   "name": "python3"
  },
  "language_info": {
   "codemirror_mode": {
    "name": "ipython",
    "version": 3
   },
   "file_extension": ".py",
   "mimetype": "text/x-python",
   "name": "python",
   "nbconvert_exporter": "python",
   "pygments_lexer": "ipython3",
   "version": "3.9.12"
  }
 },
 "nbformat": 4,
 "nbformat_minor": 5
}
