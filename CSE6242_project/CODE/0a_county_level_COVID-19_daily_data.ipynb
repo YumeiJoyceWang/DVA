{
 "cells": [
  {
   "cell_type": "code",
   "execution_count": null,
   "id": "bac3015f",
   "metadata": {},
   "outputs": [],
   "source": [
    "import pandas as pd\n",
    "\n",
    "# get us county COVID 2020 data \n",
    "county_2020 = pd.read_csv('us-counties-2020.csv', dtype={'fips': str}, delimiter=',')\n",
    "county_2020['date'] = pd.to_datetime(county_2020['date'], format='%Y-%m-%d')\n",
    "# only use data after 2020-05-18 as nursing home COVID 19 data only available after 2020-05-18\n",
    "county_2020_df = county_2020[~(county_2020['date'] < '2020-05-18')]\n"
   ]
  },
  {
   "cell_type": "code",
   "execution_count": 2,
   "id": "9a55e4ec",
   "metadata": {},
   "outputs": [],
   "source": [
    "# get us county COVID 2021 data \n",
    "county_2021 = pd.read_csv('us-counties-2021.csv', dtype={'fips': str}, delimiter=',')\n",
    "county_2021['date'] = pd.to_datetime(county_2021['date'], format='%Y-%m-%d')\n",
    "# get us county COVID 2022 data \n",
    "county_2022 = pd.read_csv('us-counties-2022.csv', dtype={'fips': str}, delimiter=',')\n",
    "county_2022['date'] = pd.to_datetime(county_2022['date'], format='%Y-%m-%d')\n",
    "county_2022_df = county_2022[~(county_2022['date'] > '2022-10-30')] # by the time this project was working"
   ]
  },
  {
   "cell_type": "code",
   "execution_count": 5,
   "id": "8829b5b6",
   "metadata": {},
   "outputs": [
    {
     "name": "stderr",
     "output_type": "stream",
     "text": [
      "/var/folders/s9/d_96608s6j569yfdkclttlr00000gn/T/ipykernel_1359/127344814.py:1: FutureWarning: The frame.append method is deprecated and will be removed from pandas in a future version. Use pandas.concat instead.\n",
      "  df = county_2020_df.append(county_2021)\n"
     ]
    }
   ],
   "source": [
    "df = county_2020_df.append(county_2021)"
   ]
  },
  {
   "cell_type": "code",
   "execution_count": 6,
   "id": "6ddff8f7",
   "metadata": {},
   "outputs": [
    {
     "name": "stderr",
     "output_type": "stream",
     "text": [
      "/var/folders/s9/d_96608s6j569yfdkclttlr00000gn/T/ipykernel_1359/2397111680.py:1: FutureWarning: The frame.append method is deprecated and will be removed from pandas in a future version. Use pandas.concat instead.\n",
      "  county_df = df.append(county_2022_df)\n"
     ]
    }
   ],
   "source": [
    "county_df = df.append(county_2022_df)"
   ]
  },
  {
   "cell_type": "code",
   "execution_count": 8,
   "id": "621aa52c",
   "metadata": {},
   "outputs": [],
   "source": [
    "county_df.to_csv('county_covid_data.csv', encoding='utf-8', index=False)"
   ]
  }
 ],
 "metadata": {
  "kernelspec": {
   "display_name": "Python 3 (ipykernel)",
   "language": "python",
   "name": "python3"
  },
  "language_info": {
   "codemirror_mode": {
    "name": "ipython",
    "version": 3
   },
   "file_extension": ".py",
   "mimetype": "text/x-python",
   "name": "python",
   "nbconvert_exporter": "python",
   "pygments_lexer": "ipython3",
   "version": "3.9.12"
  }
 },
 "nbformat": 4,
 "nbformat_minor": 5
}
