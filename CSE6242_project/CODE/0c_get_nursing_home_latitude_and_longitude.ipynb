{
 "cells": [
  {
   "cell_type": "code",
   "execution_count": null,
   "id": "2a0cd348",
   "metadata": {},
   "outputs": [],
   "source": [
    "import pandas as pd\n",
    "import requests\n",
    "import urllib\n",
    "\n",
    "dataframe = pd.read_csv('COVID_19_Nursing_Home_Data_10_16_2022.csv', dtype={'Federal Provider Number': str, 'Provider Zip Code': str}, delimiter=',', low_memory=False)\n",
    "df = dataframe.copy()\n",
    "df1 = pd.DataFrame()\n",
    "df1 = df.iloc[:, 1:7]\n",
    "df1 = df1.drop_duplicates(subset=['Federal Provider Number'])\n",
    "df1['Address'] = df1['Provider Address'] + ' ' + df1['Provider City'] + ' ' + df1['Provider State'] + ' ' + df1['Provider Zip Code']\n"
   ]
  },
  {
   "cell_type": "code",
   "execution_count": 13,
   "id": "33133db7",
   "metadata": {},
   "outputs": [],
   "source": [
    "API_key = 'get_your_API_key_from_google_geocoding_API'\n",
    "\n",
    "def get_google_result(address, api_key=None):\n",
    "    address = urllib.parse.quote_plus(address)\n",
    "    geocode_url = \"https://maps.googleapis.com/maps/api/geocode/json?address={}\".format(address)\n",
    "    if api_key is not None:\n",
    "        geocode_url = geocode_url + \"&key={}\".format(api_key)\n",
    "    results = requests.get(geocode_url)\n",
    "    json = results.json()\n",
    "    if 'results' not in json or len(json['results']) == 0:\n",
    "        return {\"formatted_address\": \"no such address\", \"latitude\": 0.0, \"longitude\": 0.0}\n",
    "    answer = json['results'][0]\n",
    "    output = {\n",
    "        \"formatted_address\": answer.get('formatted_address'),\n",
    "        \"latitude\": answer.get('geometry').get('location').get('lat'),\n",
    "        \"longitude\": answer.get('geometry').get('location').get('lng')}\n",
    "    return output\n",
    "\n",
    "\n",
    "def geocode_file(df):\n",
    "    results = []\n",
    "    longitude = []\n",
    "    latitude = []\n",
    "    addresses = df[\"Address\"].tolist()\n",
    "    for address in addresses:\n",
    "        geo_result = get_google_result(address, API_key)\n",
    "        results.append(geo_result)\n",
    "    for element in results:\n",
    "        longitude.append(element['longitude'])\n",
    "        latitude.append(element['latitude'])\n",
    "    df['Lat'] = latitude\n",
    "    df['Long'] = longitude\n",
    "    return df"
   ]
  },
  {
   "cell_type": "code",
   "execution_count": 14,
   "id": "7716d4bd",
   "metadata": {},
   "outputs": [
    {
     "name": "stderr",
     "output_type": "stream",
     "text": [
      "/var/folders/s9/d_96608s6j569yfdkclttlr00000gn/T/ipykernel_919/3325417310.py:31: SettingWithCopyWarning: \n",
      "A value is trying to be set on a copy of a slice from a DataFrame.\n",
      "Try using .loc[row_indexer,col_indexer] = value instead\n",
      "\n",
      "See the caveats in the documentation: https://pandas.pydata.org/pandas-docs/stable/user_guide/indexing.html#returning-a-view-versus-a-copy\n",
      "  df['Lat'] = latitude\n",
      "/var/folders/s9/d_96608s6j569yfdkclttlr00000gn/T/ipykernel_919/3325417310.py:32: SettingWithCopyWarning: \n",
      "A value is trying to be set on a copy of a slice from a DataFrame.\n",
      "Try using .loc[row_indexer,col_indexer] = value instead\n",
      "\n",
      "See the caveats in the documentation: https://pandas.pydata.org/pandas-docs/stable/user_guide/indexing.html#returning-a-view-versus-a-copy\n",
      "  df['Long'] = longitude\n"
     ]
    }
   ],
   "source": [
    "new_df_5000 = geocode_file(df1.iloc[:5000, :])\n",
    "# new_df = geocode_file(df1)\n",
    "new_df_5000.to_csv('5000nursingHomes.csv', encoding='utf-8', index=False)"
   ]
  },
  {
   "cell_type": "code",
   "execution_count": 15,
   "id": "335af95a",
   "metadata": {},
   "outputs": [
    {
     "name": "stderr",
     "output_type": "stream",
     "text": [
      "/var/folders/s9/d_96608s6j569yfdkclttlr00000gn/T/ipykernel_919/3325417310.py:31: SettingWithCopyWarning: \n",
      "A value is trying to be set on a copy of a slice from a DataFrame.\n",
      "Try using .loc[row_indexer,col_indexer] = value instead\n",
      "\n",
      "See the caveats in the documentation: https://pandas.pydata.org/pandas-docs/stable/user_guide/indexing.html#returning-a-view-versus-a-copy\n",
      "  df['Lat'] = latitude\n",
      "/var/folders/s9/d_96608s6j569yfdkclttlr00000gn/T/ipykernel_919/3325417310.py:32: SettingWithCopyWarning: \n",
      "A value is trying to be set on a copy of a slice from a DataFrame.\n",
      "Try using .loc[row_indexer,col_indexer] = value instead\n",
      "\n",
      "See the caveats in the documentation: https://pandas.pydata.org/pandas-docs/stable/user_guide/indexing.html#returning-a-view-versus-a-copy\n",
      "  df['Long'] = longitude\n"
     ]
    }
   ],
   "source": [
    "new_df_10000 = geocode_file(df1.iloc[5000:10000, :])\n",
    "# new_df = geocode_file(df1)\n",
    "new_df_10000.to_csv('10000nursingHomes.csv', encoding='utf-8', index=False)"
   ]
  },
  {
   "cell_type": "code",
   "execution_count": 16,
   "id": "cfc47b24",
   "metadata": {},
   "outputs": [
    {
     "name": "stderr",
     "output_type": "stream",
     "text": [
      "/var/folders/s9/d_96608s6j569yfdkclttlr00000gn/T/ipykernel_919/3325417310.py:31: SettingWithCopyWarning: \n",
      "A value is trying to be set on a copy of a slice from a DataFrame.\n",
      "Try using .loc[row_indexer,col_indexer] = value instead\n",
      "\n",
      "See the caveats in the documentation: https://pandas.pydata.org/pandas-docs/stable/user_guide/indexing.html#returning-a-view-versus-a-copy\n",
      "  df['Lat'] = latitude\n",
      "/var/folders/s9/d_96608s6j569yfdkclttlr00000gn/T/ipykernel_919/3325417310.py:32: SettingWithCopyWarning: \n",
      "A value is trying to be set on a copy of a slice from a DataFrame.\n",
      "Try using .loc[row_indexer,col_indexer] = value instead\n",
      "\n",
      "See the caveats in the documentation: https://pandas.pydata.org/pandas-docs/stable/user_guide/indexing.html#returning-a-view-versus-a-copy\n",
      "  df['Long'] = longitude\n"
     ]
    }
   ],
   "source": [
    "new_df_15000 = geocode_file(df1.iloc[10000:, :])\n",
    "# new_df = geocode_file(df1)\n",
    "new_df_15000.to_csv('15000nursingHomes.csv', encoding='utf-8', index=False)"
   ]
  },
  {
   "cell_type": "code",
   "execution_count": null,
   "id": "0cd2e4e4",
   "metadata": {},
   "outputs": [],
   "source": []
  }
 ],
 "metadata": {
  "kernelspec": {
   "display_name": "Python 3 (ipykernel)",
   "language": "python",
   "name": "python3"
  },
  "language_info": {
   "codemirror_mode": {
    "name": "ipython",
    "version": 3
   },
   "file_extension": ".py",
   "mimetype": "text/x-python",
   "name": "python",
   "nbconvert_exporter": "python",
   "pygments_lexer": "ipython3",
   "version": "3.9.12"
  }
 },
 "nbformat": 4,
 "nbformat_minor": 5
}
