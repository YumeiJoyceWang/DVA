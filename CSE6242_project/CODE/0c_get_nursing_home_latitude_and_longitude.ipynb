{
 "cells": [
  {
   "cell_type": "code",
   "execution_count": 12,
   "id": "2a0cd348",
   "metadata": {},
   "outputs": [
    {
     "name": "stdout",
     "output_type": "stream",
     "text": [
      "        Federal Provider Number                                Provider Name  \\\n",
      "0                        015009                     BURNS NURSING HOME, INC.   \n",
      "126                      015010               COOSA VALLEY HEALTHCARE CENTER   \n",
      "252                      015012                   HIGHLANDS HEALTH AND REHAB   \n",
      "378                      015014  EASTVIEW REHABILITATION & HEALTHCARE CENTER   \n",
      "504                      015015                PLANTATION MANOR NURSING HOME   \n",
      "...                         ...                                          ...   \n",
      "1922074                  745003                       NEURORESTORATIVE TEXAS   \n",
      "1922135                  745004                 THE BRIXTON AT HORSESHOE BAY   \n",
      "1922175                  745005                           CENTER AT ZARAGOZA   \n",
      "1922211                  745006       FIVE POINTS NURSING AND REHABILITATION   \n",
      "1922257                  745017     THE LODGE OF SAGINAW HEALTH AND WELLNESS   \n",
      "\n",
      "                    Provider Address  Provider City Provider State  \\\n",
      "0               701 MONROE STREET NW   RUSSELLVILLE             AL   \n",
      "126           260 WEST WALNUT STREET      SYLACAUGA             AL   \n",
      "252              380 WOODS COVE ROAD     SCOTTSBORO             AL   \n",
      "378         7755 FOURTH AVENUE SOUTH     BIRMINGHAM             AL   \n",
      "504      6450 OLD TUSCALOOSA HIGHWAY       MC CALLA             AL   \n",
      "...                              ...            ...            ...   \n",
      "1922074         2301 W. CAMPBELL RD.        GARLAND             TX   \n",
      "1922135           15101 WEST FM 2147  HORSESHOE BAY             TX   \n",
      "1922175     12660 PEBBLE HILLS BLVD.        EL PASO             TX   \n",
      "1922211          1901 N. HAMPTON RD.         DESOTO             TX   \n",
      "1922257           848 W MCLEROY BLVD        SAGINAW             TX   \n",
      "\n",
      "        Provider Zip Code                                        Address  \n",
      "0                   35653     701 MONROE STREET NW RUSSELLVILLE AL 35653  \n",
      "126                 35150      260 WEST WALNUT STREET SYLACAUGA AL 35150  \n",
      "252                 35768        380 WOODS COVE ROAD SCOTTSBORO AL 35768  \n",
      "378                 35206   7755 FOURTH AVENUE SOUTH BIRMINGHAM AL 35206  \n",
      "504                 35111  6450 OLD TUSCALOOSA HIGHWAY MC CALLA AL 35111  \n",
      "...                   ...                                            ...  \n",
      "1922074             75044          2301 W. CAMPBELL RD. GARLAND TX 75044  \n",
      "1922135             78657      15101 WEST FM 2147 HORSESHOE BAY TX 78657  \n",
      "1922175             79938      12660 PEBBLE HILLS BLVD. EL PASO TX 79938  \n",
      "1922211             75115            1901 N. HAMPTON RD. DESOTO TX 75115  \n",
      "1922257             76179            848 W MCLEROY BLVD SAGINAW TX 76179  \n",
      "\n",
      "[15502 rows x 7 columns]\n"
     ]
    }
   ],
   "source": [
    "import pandas as pd\n",
    "import requests\n",
    "import urllib\n",
    "\n",
    "dataframe = pd.read_csv('COVID_19_Nursing_Home_Data_10_16_2022.csv', dtype={'Federal Provider Number': str, 'Provider Zip Code': str}, delimiter=',', low_memory=False)\n",
    "df = dataframe.copy()\n",
    "df1 = pd.DataFrame()\n",
    "df1 = df.iloc[:, 1:7]\n",
    "df1 = df1.drop_duplicates(subset=['Federal Provider Number'])\n",
    "df1['Address'] = df1['Provider Address'] + ' ' + df1['Provider City'] + ' ' + df1['Provider State'] + ' ' + df1['Provider Zip Code']\n",
    "print(df1)"
   ]
  },
  {
   "cell_type": "code",
   "execution_count": 13,
   "id": "33133db7",
   "metadata": {},
   "outputs": [],
   "source": [
    "API_key = 'get_your_API_key_from_google_geocoding_API'\n",
    "\n",
    "def get_google_result(address, api_key=None):\n",
    "    address = urllib.parse.quote_plus(address)\n",
    "    geocode_url = \"https://maps.googleapis.com/maps/api/geocode/json?address={}\".format(address)\n",
    "    if api_key is not None:\n",
    "        geocode_url = geocode_url + \"&key={}\".format(api_key)\n",
    "    results = requests.get(geocode_url)\n",
    "    json = results.json()\n",
    "    if 'results' not in json or len(json['results']) == 0:\n",
    "        return {\"formatted_address\": \"no such address\", \"latitude\": 0.0, \"longitude\": 0.0}\n",
    "    answer = json['results'][0]\n",
    "    output = {\n",
    "        \"formatted_address\": answer.get('formatted_address'),\n",
    "        \"latitude\": answer.get('geometry').get('location').get('lat'),\n",
    "        \"longitude\": answer.get('geometry').get('location').get('lng')}\n",
    "    return output\n",
    "\n",
    "\n",
    "def geocode_file(df):\n",
    "    results = []\n",
    "    longitude = []\n",
    "    latitude = []\n",
    "    addresses = df[\"Address\"].tolist()\n",
    "    for address in addresses:\n",
    "        geo_result = get_google_result(address, API_key)\n",
    "        results.append(geo_result)\n",
    "    for element in results:\n",
    "        longitude.append(element['longitude'])\n",
    "        latitude.append(element['latitude'])\n",
    "    df['Lat'] = latitude\n",
    "    df['Long'] = longitude\n",
    "    return df"
   ]
  },
  {
   "cell_type": "code",
   "execution_count": 14,
   "id": "7716d4bd",
   "metadata": {},
   "outputs": [
    {
     "name": "stderr",
     "output_type": "stream",
     "text": [
      "/var/folders/s9/d_96608s6j569yfdkclttlr00000gn/T/ipykernel_919/3325417310.py:31: SettingWithCopyWarning: \n",
      "A value is trying to be set on a copy of a slice from a DataFrame.\n",
      "Try using .loc[row_indexer,col_indexer] = value instead\n",
      "\n",
      "See the caveats in the documentation: https://pandas.pydata.org/pandas-docs/stable/user_guide/indexing.html#returning-a-view-versus-a-copy\n",
      "  df['Lat'] = latitude\n",
      "/var/folders/s9/d_96608s6j569yfdkclttlr00000gn/T/ipykernel_919/3325417310.py:32: SettingWithCopyWarning: \n",
      "A value is trying to be set on a copy of a slice from a DataFrame.\n",
      "Try using .loc[row_indexer,col_indexer] = value instead\n",
      "\n",
      "See the caveats in the documentation: https://pandas.pydata.org/pandas-docs/stable/user_guide/indexing.html#returning-a-view-versus-a-copy\n",
      "  df['Long'] = longitude\n"
     ]
    }
   ],
   "source": [
    "new_df_5000 = geocode_file(df1.iloc[:5000, :])\n",
    "# new_df = geocode_file(df1)\n",
    "new_df_5000.to_csv('5000nursingHomes.csv', encoding='utf-8', index=False)"
   ]
  },
  {
   "cell_type": "code",
   "execution_count": 15,
   "id": "335af95a",
   "metadata": {},
   "outputs": [
    {
     "name": "stderr",
     "output_type": "stream",
     "text": [
      "/var/folders/s9/d_96608s6j569yfdkclttlr00000gn/T/ipykernel_919/3325417310.py:31: SettingWithCopyWarning: \n",
      "A value is trying to be set on a copy of a slice from a DataFrame.\n",
      "Try using .loc[row_indexer,col_indexer] = value instead\n",
      "\n",
      "See the caveats in the documentation: https://pandas.pydata.org/pandas-docs/stable/user_guide/indexing.html#returning-a-view-versus-a-copy\n",
      "  df['Lat'] = latitude\n",
      "/var/folders/s9/d_96608s6j569yfdkclttlr00000gn/T/ipykernel_919/3325417310.py:32: SettingWithCopyWarning: \n",
      "A value is trying to be set on a copy of a slice from a DataFrame.\n",
      "Try using .loc[row_indexer,col_indexer] = value instead\n",
      "\n",
      "See the caveats in the documentation: https://pandas.pydata.org/pandas-docs/stable/user_guide/indexing.html#returning-a-view-versus-a-copy\n",
      "  df['Long'] = longitude\n"
     ]
    }
   ],
   "source": [
    "new_df_10000 = geocode_file(df1.iloc[5000:10000, :])\n",
    "# new_df = geocode_file(df1)\n",
    "new_df_10000.to_csv('10000nursingHomes.csv', encoding='utf-8', index=False)"
   ]
  },
  {
   "cell_type": "code",
   "execution_count": 16,
   "id": "cfc47b24",
   "metadata": {},
   "outputs": [
    {
     "name": "stderr",
     "output_type": "stream",
     "text": [
      "/var/folders/s9/d_96608s6j569yfdkclttlr00000gn/T/ipykernel_919/3325417310.py:31: SettingWithCopyWarning: \n",
      "A value is trying to be set on a copy of a slice from a DataFrame.\n",
      "Try using .loc[row_indexer,col_indexer] = value instead\n",
      "\n",
      "See the caveats in the documentation: https://pandas.pydata.org/pandas-docs/stable/user_guide/indexing.html#returning-a-view-versus-a-copy\n",
      "  df['Lat'] = latitude\n",
      "/var/folders/s9/d_96608s6j569yfdkclttlr00000gn/T/ipykernel_919/3325417310.py:32: SettingWithCopyWarning: \n",
      "A value is trying to be set on a copy of a slice from a DataFrame.\n",
      "Try using .loc[row_indexer,col_indexer] = value instead\n",
      "\n",
      "See the caveats in the documentation: https://pandas.pydata.org/pandas-docs/stable/user_guide/indexing.html#returning-a-view-versus-a-copy\n",
      "  df['Long'] = longitude\n"
     ]
    }
   ],
   "source": [
    "new_df_15000 = geocode_file(df1.iloc[10000:, :])\n",
    "# new_df = geocode_file(df1)\n",
    "new_df_15000.to_csv('15000nursingHomes.csv', encoding='utf-8', index=False)"
   ]
  },
  {
   "cell_type": "code",
   "execution_count": null,
   "id": "0cd2e4e4",
   "metadata": {},
   "outputs": [],
   "source": []
  }
 ],
 "metadata": {
  "kernelspec": {
   "display_name": "Python 3 (ipykernel)",
   "language": "python",
   "name": "python3"
  },
  "language_info": {
   "codemirror_mode": {
    "name": "ipython",
    "version": 3
   },
   "file_extension": ".py",
   "mimetype": "text/x-python",
   "name": "python",
   "nbconvert_exporter": "python",
   "pygments_lexer": "ipython3",
   "version": "3.9.12"
  }
 },
 "nbformat": 4,
 "nbformat_minor": 5
}
